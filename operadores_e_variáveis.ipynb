{
  "cells": [
    {
      "cell_type": "code",
      "source": [
        "while True:\n",
        "    resposta = input(\"Olá! Vamos calcular? (Sim/não): \").strip().lower()  # Formata a entrada\n",
        "\n",
        "    if resposta == \"sim\":\n",
        "        print(\"Ótimo, vamos começar!\")\n",
        "        # Sai do loop e continua o programa\n",
        "        break\n",
        "\n",
        "    elif resposta == \"não\" or resposta == \"nao\":\n",
        "        print(\"Ok! Até a próxima.\")\n",
        "        exit()  # Encerra o programa\n",
        "\n",
        "    else:\n",
        "        print(\"Resposta inválida. Tente novamente.\")\n",
        "\n",
        "\n",
        "nome = input(\"Qual é o seu nome? \")\n",
        "print(f\"Olá, {nome}, vamos iniciar.\")\n",
        "\n",
        "print(\"Qual operação deseja realizar?\")\n",
        "print(\"1 - Soma\")\n",
        "print(\"2 - Subtração\")\n",
        "print(\"3 - Multiplicação\")\n",
        "print(\"4 - Divisão\")\n",
        "\n",
        "while True:\n",
        "    try:\n",
        "        operacao = int(input(\"Digite o número da operação desejada (1/2/3/4): \"))  # Tenta converter para inteiro\n",
        "\n",
        "        if operacao in [1, 2, 3, 4]:  # Verifica se o número está entre as opções válidas\n",
        "            break  # Se for válido, sai do loop\n",
        "        else:\n",
        "            print(\"Opção inválida! Digite um número entre 1 e 4.\")\n",
        "\n",
        "    except ValueError:  # Captura erro caso o usuário digite algo que não seja um número\n",
        "        print(\"Entrada inválida! Digite apenas números entre 1 e 4.\")\n",
        "print(f\"Você escolheu a operação {operacao}.\")\n",
        "\n",
        "num1 = float(input(\"Digite o primeiro número: \"))\n",
        "num2 = float(input(\"Digite o segundo número: \"))\n",
        "\n",
        "if operacao == 1:\n",
        "    resultado = num1 + num2\n",
        "    print(f\"O resultado da soma é {resultado}\")\n",
        "\n",
        "elif operacao == 2:\n",
        "        resultado = num1 - num2\n",
        "        print(f\"O resultado é {resultado}\")\n",
        "elif operacao == 3:\n",
        "    resultado = num1 * num2\n",
        "    print(f\"o resultado é {resultado}\")\n",
        "elif operacao == 4:\n",
        "    if num2 != 0:\n",
        "        resultado = num1 / num2\n",
        "        print(f\"O resultado é {resultado}\")\n",
        "    else:\n",
        "        print(\"Erro: Divisão por zero não é permitida.\")\n",
        "\n",
        "print(\"Obrigado por usar a calculadora!\")\n",
        "\n"
      ],
      "metadata": {
        "id": "-zc1N67uE1vY",
        "outputId": "e19ec47d-685d-4a6d-f948-fc225ebb42cc",
        "colab": {
          "base_uri": "https://localhost:8080/"
        }
      },
      "execution_count": 19,
      "outputs": [
        {
          "output_type": "stream",
          "name": "stdout",
          "text": [
            "Olá! Vamos calcular? (Sim/não): nao\n",
            "Ok! Até a próxima.\n",
            "Olá! Vamos calcular? (Sim/não): sim\n",
            "Ótimo, vamos começar!\n",
            "Qual é o seu nome? mortadela\n",
            "Olá, mortadela, vamos iniciar.\n",
            "Qual operação deseja realizar?\n",
            "1 - Soma\n",
            "2 - Subtração\n",
            "3 - Multiplicação\n",
            "4 - Divisão\n",
            "Digite o número da operação desejada (1/2/3/4): 5\n",
            "Opção inválida! Digite um número entre 1 e 4.\n",
            "Digite o número da operação desejada (1/2/3/4): \n",
            "Entrada inválida! Digite apenas números entre 1 e 4.\n",
            "Digite o número da operação desejada (1/2/3/4): 4\n",
            "Você escolheu a operação 4.\n",
            "Digite o primeiro número: 1\n",
            "Digite o segundo número: 4\n",
            "O resultado é 0.25\n",
            "Obrigado por usar a calculadora!\n"
          ]
        }
      ]
    }
  ],
  "metadata": {
    "colab": {
      "name": "Olá, este é o Colaboratory",
      "provenance": []
    },
    "kernelspec": {
      "display_name": "Python 3",
      "name": "python3"
    }
  },
  "nbformat": 4,
  "nbformat_minor": 0
}
